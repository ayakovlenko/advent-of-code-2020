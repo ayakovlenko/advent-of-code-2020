{
 "cells": [
  {
   "cell_type": "code",
   "execution_count": null,
   "metadata": {},
   "outputs": [],
   "source": [
    "lines = ReadList[\"./data/day_13.txt\", String];"
   ]
  },
  {
   "cell_type": "code",
   "execution_count": null,
   "metadata": {},
   "outputs": [],
   "source": [
    "schedule = StringSplit[Part[lines, 2], \",\"];"
   ]
  },
  {
   "cell_type": "code",
   "execution_count": null,
   "metadata": {},
   "outputs": [],
   "source": [
    "ChineseRemainder @@ (\n",
    "    Map[\n",
    "        Function[{\n",
    "            ToExpression[Part[#1, 2]] - Part[#1, 1],\n",
    "            ToExpression[Part[#1, 2]]\n",
    "        }],\n",
    "        Select[\n",
    "            Table[\n",
    "                {i - 1, schedule[[i]]},\n",
    "                {i, 1, Length[schedule]}\n",
    "            ],\n",
    "            Function[Part[#1, 2] != \"x\"]\n",
    "        ]\n",
    "    ] // Transpose\n",
    ")"
   ]
  }
 ],
 "metadata": {
  "kernelspec": {
   "display_name": "Wolfram Language 12.1",
   "language": "Wolfram Language",
   "name": "wolframlanguage12.1"
  },
  "language_info": {
   "codemirror_mode": "mathematica",
   "file_extension": ".m",
   "mimetype": "application/vnd.wolfram.m",
   "name": "Wolfram Language",
   "pygments_lexer": "mathematica",
   "version": "12.0"
  }
 },
 "nbformat": 4,
 "nbformat_minor": 4
}
